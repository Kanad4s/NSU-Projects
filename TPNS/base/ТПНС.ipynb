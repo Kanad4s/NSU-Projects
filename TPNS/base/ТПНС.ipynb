{
  "cells": [
    {
      "cell_type": "markdown",
      "metadata": {
        "id": "QCxi3hpBpYot"
      },
      "source": []
    },
    {
      "cell_type": "markdown",
      "metadata": {
        "id": "c52fkYM9pbJf"
      },
      "source": [
        "## Доклад. Выбор наиболее важных для настройки модели признаков посредством алгоритма Gain Ratio"
      ]
    },
    {
      "cell_type": "markdown",
      "metadata": {
        "id": "69BVK0dY2Vsz"
      },
      "source": [
        "Для начала, определим, что такое ***Gain Ratio***\n",
        "$$Gain\\ Ratio(S,A)=\\frac{Information\\ Gain(S,A)}{Split\\ Information(A)}$$\n",
        "Information Gain показывает уменьшение энтропии после  разбиения данных по признаку:\n",
        "$$Information\\ Gain(S,A) = Entropy(S)-\\sum\\limits_{v}\\frac{|S_v|}{|S|} Entropy(S_v) $$\n",
        "Split Information - информация о разбиении\n",
        "$$Split\\ Information(A) = -\\sum\\limits_v \\frac{|S_v|}{|S|}  \\log_2 \\frac{|S_v|}{|S|} $$\n",
        "Энтропия - мера беспорядочности\n",
        "$$Entropy(S) = - \\sum\\limits_i p_i \\log_2 p_i$$\n"
      ]
    },
    {
      "cell_type": "markdown",
      "metadata": {
        "id": "EyritC094Dnp"
      },
      "source": [
        "Далее, для работы с кодом нужно загрузить датасет. В моём случае - это дефолт клиентов по кредитным картам"
      ]
    },
    {
      "cell_type": "markdown",
      "metadata": {
        "id": "STqrdeG24qlX"
      },
      "source": [
        "Импортируем библиотеки"
      ]
    },
    {
      "cell_type": "code",
      "execution_count": 2,
      "metadata": {
        "id": "KgBKrmmMpTow"
      },
      "outputs": [],
      "source": [
        "import pandas as pd\n",
        "import numpy as np"
      ]
    },
    {
      "cell_type": "markdown",
      "metadata": {
        "id": "yCzDiVZf4tKA"
      },
      "source": [
        "Загрузим датасет"
      ]
    },
    {
      "cell_type": "code",
      "execution_count": null,
      "metadata": {
        "id": "oefXukWp4zbx"
      },
      "outputs": [],
      "source": [
        "credit_defaults = pd.read_csv('/content/drive/MyDrive/Colab Notebooks/UCI_Credit_Card.csv')"
      ]
    },
    {
      "cell_type": "markdown",
      "metadata": {
        "id": "d8fiF81s5Mqw"
      },
      "source": [
        "Отобразим первые несколько строк датасета, для наглядности"
      ]
    },
    {
      "cell_type": "code",
      "execution_count": null,
      "metadata": {
        "colab": {
          "base_uri": "https://localhost:8080/"
        },
        "collapsed": true,
        "id": "XaZ4qXvq5ROU",
        "outputId": "1cf179c5-a19b-453f-839d-8b25c91ed618"
      },
      "outputs": [
        {
          "name": "stdout",
          "output_type": "stream",
          "text": [
            "   ID  LIMIT_BAL  SEX  EDUCATION  MARRIAGE  AGE  PAY_0  PAY_2  PAY_3  PAY_4  \\\n",
            "0   1    20000.0    2          2         1   24      2      2     -1     -1   \n",
            "1   2   120000.0    2          2         2   26     -1      2      0      0   \n",
            "2   3    90000.0    2          2         2   34      0      0      0      0   \n",
            "3   4    50000.0    2          2         1   37      0      0      0      0   \n",
            "4   5    50000.0    1          2         1   57     -1      0     -1      0   \n",
            "\n",
            "   ...  BILL_AMT4  BILL_AMT5  BILL_AMT6  PAY_AMT1  PAY_AMT2  PAY_AMT3  \\\n",
            "0  ...        0.0        0.0        0.0       0.0     689.0       0.0   \n",
            "1  ...     3272.0     3455.0     3261.0       0.0    1000.0    1000.0   \n",
            "2  ...    14331.0    14948.0    15549.0    1518.0    1500.0    1000.0   \n",
            "3  ...    28314.0    28959.0    29547.0    2000.0    2019.0    1200.0   \n",
            "4  ...    20940.0    19146.0    19131.0    2000.0   36681.0   10000.0   \n",
            "\n",
            "   PAY_AMT4  PAY_AMT5  PAY_AMT6  default.payment.next.month  \n",
            "0       0.0       0.0       0.0                           1  \n",
            "1    1000.0       0.0    2000.0                           1  \n",
            "2    1000.0    1000.0    5000.0                           0  \n",
            "3    1100.0    1069.0    1000.0                           0  \n",
            "4    9000.0     689.0     679.0                           0  \n",
            "\n",
            "[5 rows x 25 columns]\n"
          ]
        }
      ],
      "source": [
        "print(credit_defaults.head())"
      ]
    },
    {
      "cell_type": "markdown",
      "metadata": {
        "id": "wUM2PdmftvQd"
      },
      "source": [
        "Тут можно видеть все возможные значения всех признаков"
      ]
    },
    {
      "cell_type": "code",
      "execution_count": null,
      "metadata": {
        "colab": {
          "base_uri": "https://localhost:8080/"
        },
        "collapsed": true,
        "id": "9l-LCFwfG2Yw",
        "outputId": "0e8ae47b-f91e-4a64-fc29-94e2148d7034"
      },
      "outputs": [
        {
          "name": "stdout",
          "output_type": "stream",
          "text": [
            "Названия признаков:\n",
            "['ID', 'LIMIT_BAL', 'SEX', 'EDUCATION', 'MARRIAGE', 'AGE', 'PAY_0', 'PAY_2', 'PAY_3', 'PAY_4', 'PAY_5', 'PAY_6', 'BILL_AMT1', 'BILL_AMT2', 'BILL_AMT3', 'BILL_AMT4', 'BILL_AMT5', 'BILL_AMT6', 'PAY_AMT1', 'PAY_AMT2', 'PAY_AMT3', 'PAY_AMT4', 'PAY_AMT5', 'PAY_AMT6', 'default.payment.next.month']\n",
            "\n",
            "Уникальные значения для каждого признака:\n",
            "ID: [    1     2     3 ... 29998 29999 30000]\n",
            "LIMIT_BAL: [  20000.  120000.   90000.   50000.  500000.  100000.  140000.  200000.\n",
            "  260000.  630000.   70000.  250000.  320000.  360000.  180000.  130000.\n",
            "  450000.   60000.  230000.  160000.  280000.   10000.   40000.  210000.\n",
            "  150000.  380000.  310000.  400000.   80000.  290000.  340000.  300000.\n",
            "   30000.  240000.  470000.  480000.  350000.  330000.  110000.  420000.\n",
            "  170000.  370000.  270000.  220000.  190000.  510000.  460000.  440000.\n",
            "  410000.  490000.  390000.  580000.  600000.  620000.  610000.  700000.\n",
            "  670000.  680000.  430000.  550000.  540000. 1000000.  530000.  710000.\n",
            "  560000.  520000.  750000.  640000.   16000.  570000.  590000.  660000.\n",
            "  720000.  327680.  740000.  800000.  760000.  690000.  650000.  780000.\n",
            "  730000.]\n",
            "SEX: [2 1]\n",
            "EDUCATION: [2 1 3 5 4 6 0]\n",
            "MARRIAGE: [1 2 3 0]\n",
            "AGE: [24 26 34 37 57 29 23 28 35 51 41 30 49 39 40 27 47 33 32 54 58 22 25 31\n",
            " 46 42 43 45 56 44 53 38 63 36 52 48 55 60 50 75 61 73 59 21 67 66 62 70\n",
            " 72 64 65 71 69 68 79 74]\n",
            "PAY_0: [ 2 -1  0 -2  1  3  4  8  7  5  6]\n",
            "PAY_2: [ 2  0 -1 -2  3  5  7  4  1  6  8]\n",
            "PAY_3: [-1  0  2 -2  3  4  6  7  1  5  8]\n",
            "PAY_4: [-1  0 -2  2  3  4  5  7  6  1  8]\n",
            "PAY_5: [-2  0 -1  2  3  5  4  7  8  6]\n",
            "PAY_6: [-2  2  0 -1  3  6  4  7  8  5]\n",
            "BILL_AMT1: [ 3913.  2682. 29239. ...  1683. -1645. 47929.]\n",
            "BILL_AMT2: [ 3102.  1725. 14027. ...  3356. 78379. 48905.]\n",
            "BILL_AMT3: [  689.  2682. 13559. ...  2758. 76304. 49764.]\n",
            "BILL_AMT4: [    0.  3272. 14331. ... 20878. 52774. 36535.]\n",
            "BILL_AMT5: [    0.  3455. 14948. ... 31237.  5190. 32428.]\n",
            "BILL_AMT6: [    0.  3261. 15549. ... 19357. 48944. 15313.]\n",
            "PAY_AMT1: [    0.  1518.  2000. ... 10029.  9054. 85900.]\n",
            "PAY_AMT2: [   689.   1000.   1500. ...   2977. 111784.   3526.]\n",
            "PAY_AMT3: [     0.   1000.   1200. ... 349395.   8907.  25128.]\n",
            "PAY_AMT4: [    0.  1000.  1100. ...  2556. 10115.  8049.]\n",
            "PAY_AMT5: [    0.  1000.  1069. ...  8040.  3319. 52964.]\n",
            "PAY_AMT6: [     0.   2000.   5000. ...  70052. 220076.  16080.]\n",
            "default.payment.next.month: [1 0]\n"
          ]
        }
      ],
      "source": [
        "print(\"Названия признаков:\")\n",
        "print(credit_defaults.columns.tolist())\n",
        "\n",
        "print(\"\\nУникальные значения для каждого признака:\")\n",
        "for column in credit_defaults.columns:\n",
        "    unique_values = credit_defaults[column].unique()\n",
        "    print(f\"{column}: {unique_values}\")"
      ]
    },
    {
      "cell_type": "markdown",
      "metadata": {
        "id": "QmOwFZE75bXW"
      },
      "source": [
        "Теперь посчитаем характеристики для каждого признака."
      ]
    },
    {
      "cell_type": "markdown",
      "metadata": {
        "id": "wLGiSS3x5opA"
      },
      "source": [
        "***ЭНТРОПИЯ***"
      ]
    },
    {
      "cell_type": "code",
      "execution_count": null,
      "metadata": {
        "id": "cELmZje95mIG"
      },
      "outputs": [],
      "source": [
        "def entropy(y):\n",
        "  counts = np.bincount(y) # Подсчитываем количество вхождений элементов массива\n",
        "  probabilities = counts / len(y) # Считаем вероятность вхождения каждого элемента\n",
        "  return -np.sum([p * np.log2(p) for p in probabilities if p > 0])"
      ]
    },
    {
      "cell_type": "markdown",
      "metadata": {
        "id": "8CNNIH4M6co8"
      },
      "source": [
        "***INFORMATION GAIN***"
      ]
    },
    {
      "cell_type": "code",
      "execution_count": null,
      "metadata": {
        "id": "gWqz4TGk6g7g"
      },
      "outputs": [],
      "source": [
        "# X - датасет, y - классификационный признак, fearture_idx - индекс другого признака\n",
        "def information_gain(X, y, feature_idx):\n",
        "  total_entropy = entropy(y) # Энтропия до разбиения на признаки\n",
        "  values, counts = np.unique(X[:, feature_idx], return_counts=True)\n",
        "  weighted_entropy = 0 # Энтропия после разбиения на признаки\n",
        "\n",
        "  for value, count in zip(values, counts):\n",
        "      subset_y = y[X[:, feature_idx] == value]\n",
        "      weighted_entropy += (count / len(X)) * entropy(subset_y)\n",
        "\n",
        "  return total_entropy - weighted_entropy"
      ]
    },
    {
      "cell_type": "markdown",
      "metadata": {
        "id": "CVYRt1BK-lTp"
      },
      "source": [
        "***SPLIT INFORMATION***"
      ]
    },
    {
      "cell_type": "code",
      "execution_count": null,
      "metadata": {
        "id": "Swy9Ym_t-oke"
      },
      "outputs": [],
      "source": [
        "def split_information(X, feature_idx):\n",
        "    values, counts = np.unique(X[:, feature_idx], return_counts=True)\n",
        "    probabilities = counts / len(X)\n",
        "    return -np.sum([p * np.log2(p) for p in probabilities if p > 0])"
      ]
    },
    {
      "cell_type": "markdown",
      "metadata": {
        "id": "ZcMS79fs_MgR"
      },
      "source": [
        "***GAIN RATIO***"
      ]
    },
    {
      "cell_type": "code",
      "execution_count": null,
      "metadata": {
        "id": "jkXIv4Bw_OZd"
      },
      "outputs": [],
      "source": [
        "def gain_ratio(X, y, feature_idx):\n",
        "    ig = information_gain(X, y, feature_idx)\n",
        "    iv = split_information(X, feature_idx)\n",
        "    return ig / iv if iv != 0 else 0"
      ]
    },
    {
      "cell_type": "markdown",
      "metadata": {
        "id": "1a7dqkvI_njl"
      },
      "source": [
        "Теперь применим все эти функции для расчёта коэффициента усиления для каждого из признаков датасета(за исключением классфикационного, разумеется)."
      ]
    },
    {
      "cell_type": "code",
      "execution_count": null,
      "metadata": {
        "id": "CYAcqLkvJHBZ"
      },
      "outputs": [],
      "source": [
        "# Исключаем из датасета ненужные колонки\n",
        "X = credit_defaults.drop(['ID', 'default.payment.next.month'], axis=1)\n",
        "\n",
        "#Отделим классфикационный признак\n",
        "y = credit_defaults['default.payment.next.month'].values"
      ]
    },
    {
      "cell_type": "code",
      "execution_count": null,
      "metadata": {
        "colab": {
          "base_uri": "https://localhost:8080/"
        },
        "id": "TcLYqPV6_xQW",
        "outputId": "5c4ecd81-05ec-4e46-f388-811a2a63bb2c"
      },
      "outputs": [
        {
          "name": "stdout",
          "output_type": "stream",
          "text": [
            "Gain Ratio:\n",
            "PAY_0: 0.0529\n",
            "BILL_AMT1: 0.0429\n",
            "BILL_AMT2: 0.0428\n",
            "BILL_AMT3: 0.0428\n",
            "BILL_AMT4: 0.0425\n",
            "BILL_AMT5: 0.0419\n",
            "BILL_AMT6: 0.0418\n",
            "PAY_2: 0.0384\n",
            "PAY_3: 0.0295\n",
            "PAY_4: 0.0268\n",
            "PAY_5: 0.0255\n",
            "PAY_6: 0.0216\n",
            "PAY_AMT1: 0.0215\n",
            "PAY_AMT3: 0.0209\n",
            "PAY_AMT6: 0.0206\n",
            "PAY_AMT2: 0.0205\n",
            "PAY_AMT5: 0.0200\n",
            "PAY_AMT4: 0.0199\n",
            "LIMIT_BAL: 0.0047\n",
            "EDUCATION: 0.0028\n",
            "SEX: 0.0012\n",
            "MARRIAGE: 0.0008\n",
            "AGE: 0.0007\n"
          ]
        }
      ],
      "source": [
        "feature_names = X.columns.tolist()\n",
        "X = X.values\n",
        "scores = [gain_ratio(X, y, i) for i in range(X.shape[1])]\n",
        "\n",
        "# Ранжирование признаков\n",
        "feature_ranking = np.argsort(scores)[::-1]\n",
        "print(\"Gain Ratio:\")\n",
        "for idx in feature_ranking:\n",
        "    print(f\"{feature_names[idx]}: {scores[idx]:.4f}\")"
      ]
    },
    {
      "cell_type": "code",
      "execution_count": null,
      "metadata": {
        "id": "xbavq_7c6Cfu"
      },
      "outputs": [],
      "source": []
    },
    {
      "cell_type": "markdown",
      "metadata": {
        "id": "NCJbS0_aEbUh"
      },
      "source": [
        "Но есть нюанс: многие признаки являются числовыми, а значит, что и значений у них много. Их можно дискретизировать(например, на 5 интервалов), чтобы лучше изменить результат"
      ]
    },
    {
      "cell_type": "code",
      "execution_count": 1,
      "metadata": {
        "id": "jP8TQEA0ErbY"
      },
      "outputs": [
        {
          "ename": "NameError",
          "evalue": "name 'np' is not defined",
          "output_type": "error",
          "traceback": [
            "\u001b[0;31m---------------------------------------------------------------------------\u001b[0m",
            "\u001b[0;31mNameError\u001b[0m                                 Traceback (most recent call last)",
            "Cell \u001b[0;32mIn[1], line 1\u001b[0m\n\u001b[0;32m----> 1\u001b[0m X_discretized \u001b[38;5;241m=\u001b[39m \u001b[43mnp\u001b[49m\u001b[38;5;241m.\u001b[39mzeros_like(X)\n\u001b[1;32m      2\u001b[0m \u001b[38;5;28;01mfor\u001b[39;00m i \u001b[38;5;129;01min\u001b[39;00m \u001b[38;5;28mrange\u001b[39m(X\u001b[38;5;241m.\u001b[39mshape[\u001b[38;5;241m1\u001b[39m]):\n\u001b[1;32m      3\u001b[0m     X_discretized[:, i] \u001b[38;5;241m=\u001b[39m pd\u001b[38;5;241m.\u001b[39mcut(X[:, i], bins\u001b[38;5;241m=\u001b[39m\u001b[38;5;241m5\u001b[39m, labels\u001b[38;5;241m=\u001b[39m\u001b[38;5;28;01mFalse\u001b[39;00m, duplicates\u001b[38;5;241m=\u001b[39m\u001b[38;5;124m'\u001b[39m\u001b[38;5;124mdrop\u001b[39m\u001b[38;5;124m'\u001b[39m)\n",
            "\u001b[0;31mNameError\u001b[0m: name 'np' is not defined"
          ]
        }
      ],
      "source": [
        "X_discretized = np.zeros_like(X)\n",
        "for i in range(X.shape[1]):\n",
        "    X_discretized[:, i] = pd.cut(X[:, i], bins=5, labels=False, duplicates='drop')"
      ]
    },
    {
      "cell_type": "code",
      "execution_count": null,
      "metadata": {
        "colab": {
          "base_uri": "https://localhost:8080/"
        },
        "id": "PEaWB1MZFMcj",
        "outputId": "99794141-41e7-421a-ec84-829d6b4935d4"
      },
      "outputs": [
        {
          "name": "stdout",
          "output_type": "stream",
          "text": [
            "\n",
            "Рейтинг важности признаков:\n",
            "PAY_0: 0.1034\n",
            "PAY_2: 0.1015\n",
            "PAY_5: 0.0823\n",
            "PAY_3: 0.0809\n",
            "PAY_4: 0.0796\n",
            "PAY_6: 0.0701\n",
            "PAY_AMT1: 0.0119\n",
            "LIMIT_BAL: 0.0103\n",
            "PAY_AMT4: 0.0101\n",
            "PAY_AMT2: 0.0075\n",
            "PAY_AMT5: 0.0058\n",
            "PAY_AMT6: 0.0053\n",
            "EDUCATION: 0.0027\n",
            "PAY_AMT3: 0.0023\n",
            "SEX: 0.0012\n",
            "BILL_AMT2: 0.0009\n",
            "BILL_AMT1: 0.0008\n",
            "MARRIAGE: 0.0008\n",
            "BILL_AMT5: 0.0005\n",
            "BILL_AMT4: 0.0004\n",
            "AGE: 0.0004\n",
            "BILL_AMT6: 0.0003\n",
            "BILL_AMT3: 0.0001\n"
          ]
        }
      ],
      "source": [
        "scores = [gain_ratio(X_discretized, y, i) for i in range(X_discretized.shape[1])]\n",
        "\n",
        "# Ранжирование признаков\n",
        "feature_ranking = np.argsort(scores)[::-1]\n",
        "print(\"\\nРейтинг важности признаков:\")\n",
        "for idx in feature_ranking:\n",
        "    print(f\"{feature_names[idx]}: {scores[idx]:.4f}\")"
      ]
    },
    {
      "cell_type": "markdown",
      "metadata": {
        "id": "dGe-rpGftjuD"
      },
      "source": [
        "А теперь можно взглянуть на библиотечную реализацию выбора k самых важных признаков и провести сравнение."
      ]
    },
    {
      "cell_type": "code",
      "execution_count": null,
      "metadata": {
        "colab": {
          "base_uri": "https://localhost:8080/"
        },
        "id": "kHwNNGA2qLoL",
        "outputId": "5ef14ef5-2e23-4031-8d38-a8bf69cd314c"
      },
      "outputs": [
        {
          "name": "stdout",
          "output_type": "stream",
          "text": [
            "['LIMIT_BAL', 'PAY_0', 'PAY_2', 'PAY_3', 'PAY_4', 'PAY_5', 'PAY_6', 'PAY_AMT1', 'PAY_AMT2', 'PAY_AMT4']\n"
          ]
        }
      ],
      "source": [
        "from sklearn.feature_selection import SelectKBest, f_classif\n",
        "\n",
        "X = credit_defaults.drop(['ID', 'default.payment.next.month'], axis=1)\n",
        "y = credit_defaults['default.payment.next.month']\n",
        "\n",
        "selector = SelectKBest(score_func = f_classif, k = 10)\n",
        "X_best = selector.fit_transform(X, y)\n",
        "best_indices = selector.get_support(indices=True)\n",
        "\n",
        "selected_features = X.columns[best_indices]\n",
        "print(selected_features.tolist())\n",
        "\n"
      ]
    },
    {
      "cell_type": "code",
      "execution_count": null,
      "metadata": {
        "colab": {
          "base_uri": "https://localhost:8080/"
        },
        "id": "6WmslnEbFriv",
        "outputId": "b0d81be9-41fa-4a89-bdfc-50560b385de9"
      },
      "outputs": [
        {
          "name": "stdout",
          "output_type": "stream",
          "text": [
            "Entropy(fruits) = 1.9219280948873623\n",
            "IG(Fruit, Color) = 1.5219280948873624\n",
            "SI(Color) = 1.9219280948873623\n",
            "GR(Color) = 0.7918756684685216\n",
            "IG(Fruit, Size) = 0.9709505944546686\n",
            "SI(Size) = 0.9709505944546686\n",
            "GR(Size) = 1.0\n",
            "GR(Colors) = 0.5837513369370432\n"
          ]
        }
      ],
      "source": [
        "\n",
        "colors = np.array([1,1,2,3,3])\n",
        "fruits = np.array([1,2,2,3,4])\n",
        "\n",
        "MyArr = np.array([\n",
        "  [1,1,1],\n",
        "  [1,2,2],\n",
        "  [2,2,2],\n",
        "  [3,1,3],\n",
        "  [4,2,4]\n",
        "])\n",
        "\n",
        "print(f\"Entropy(fruits) = {entropy(fruits)}\")\n",
        "print(f\"IG(Fruit, Color) = {information_gain(MyArr, fruits, 0)}\")\n",
        "print(f\"SI(Color) = {split_information(MyArr, 0)}\")\n",
        "print(f\"GR(Color) = {gain_ratio(MyArr, fruits, 0)}\")\n",
        "\n",
        "print(f\"IG(Fruit, Size) = {information_gain(MyArr, fruits, 1)}\")\n",
        "print(f\"SI(Size) = {split_information(MyArr, 1)}\")\n",
        "print(f\"GR(Size) = {gain_ratio(MyArr, fruits, 1)}\")\n",
        "\n",
        "\n",
        "print(f\"GR(Colors) = {gain_ratio(MyArr, colors, 2)}\")\n",
        "\n"
      ]
    }
  ],
  "metadata": {
    "colab": {
      "provenance": []
    },
    "kernelspec": {
      "display_name": "Python 3",
      "name": "python3"
    },
    "language_info": {
      "codemirror_mode": {
        "name": "ipython",
        "version": 3
      },
      "file_extension": ".py",
      "mimetype": "text/x-python",
      "name": "python",
      "nbconvert_exporter": "python",
      "pygments_lexer": "ipython3",
      "version": "3.12.3"
    }
  },
  "nbformat": 4,
  "nbformat_minor": 0
}
